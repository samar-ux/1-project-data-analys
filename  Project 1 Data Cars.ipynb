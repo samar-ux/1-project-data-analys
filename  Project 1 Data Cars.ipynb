{
 "cells": [
  {
   "cell_type": "markdown",
   "id": "4113653e",
   "metadata": {},
   "source": [
    " Project 1: Data Cars"
   ]
  },
  {
   "cell_type": "markdown",
   "id": "4e242728",
   "metadata": {},
   "source": [
    "Table of Contents\n"
   ]
  },
  {
   "cell_type": "raw",
   "id": "54272cdc",
   "metadata": {},
   "source": [
    "-Download & Extract data \n",
    "-Load & Assess & cleaning data \n",
    "1-What are the most common car manufacturers in the dataset?\n",
    "2-What is the average price of vehicles by manufacturer?\n",
    "3-What is the distribution of vehicle conditions?\n",
    "4-How does price vary by vehicle type?\n",
    "5-What is the relationship between the year of the vehicle and its price?\n",
    "6-Which cities have the highest average vehicle prices?\n",
    "7-What are the most common vehicle types listed?\n",
    "8-Which car models are listed most frequently?\n",
    "9-What is the distribution of mileage across different vehicle types?\n",
    "10-How does fuel type affect the price of vehicles?\n",
    "11-Are certain vehicle conditions associated with higher prices?\n",
    "12-What is the trend in vehicle prices over different years?"
   ]
  },
  {
   "cell_type": "code",
   "execution_count": null,
   "id": "ca8c7d24",
   "metadata": {},
   "outputs": [],
   "source": [
    "import pandas as pd\n",
    "import numpy as np \n",
    "import matplotlib.pyplot as plt\n",
    "import seaborn as sns\n",
    "import datetime \n",
    "import warnings\n",
    "warnings.filterwarnings(\"ignore\")"
   ]
  },
  {
   "cell_type": "markdown",
   "id": "1376a376",
   "metadata": {},
   "source": [
    "-Extract data"
   ]
  },
  {
   "cell_type": "code",
   "execution_count": 3,
   "id": "2c296e6b",
   "metadata": {},
   "outputs": [
    {
     "data": {
      "text/html": [
       "<div>\n",
       "<style scoped>\n",
       "    .dataframe tbody tr th:only-of-type {\n",
       "        vertical-align: middle;\n",
       "    }\n",
       "\n",
       "    .dataframe tbody tr th {\n",
       "        vertical-align: top;\n",
       "    }\n",
       "\n",
       "    .dataframe thead th {\n",
       "        text-align: right;\n",
       "    }\n",
       "</style>\n",
       "<table border=\"1\" class=\"dataframe\">\n",
       "  <thead>\n",
       "    <tr style=\"text-align: right;\">\n",
       "      <th></th>\n",
       "      <th>id</th>\n",
       "      <th>url</th>\n",
       "      <th>region</th>\n",
       "      <th>region_url</th>\n",
       "      <th>price</th>\n",
       "      <th>year</th>\n",
       "      <th>manufacturer</th>\n",
       "      <th>model</th>\n",
       "      <th>condition</th>\n",
       "      <th>cylinders</th>\n",
       "      <th>...</th>\n",
       "      <th>size</th>\n",
       "      <th>type</th>\n",
       "      <th>paint_color</th>\n",
       "      <th>image_url</th>\n",
       "      <th>description</th>\n",
       "      <th>county</th>\n",
       "      <th>state</th>\n",
       "      <th>lat</th>\n",
       "      <th>long</th>\n",
       "      <th>posting_date</th>\n",
       "    </tr>\n",
       "  </thead>\n",
       "  <tbody>\n",
       "    <tr>\n",
       "      <th>0</th>\n",
       "      <td>7222695916</td>\n",
       "      <td>https://prescott.craigslist.org/cto/d/prescott...</td>\n",
       "      <td>prescott</td>\n",
       "      <td>https://prescott.craigslist.org</td>\n",
       "      <td>6000</td>\n",
       "      <td>NaN</td>\n",
       "      <td>NaN</td>\n",
       "      <td>NaN</td>\n",
       "      <td>NaN</td>\n",
       "      <td>NaN</td>\n",
       "      <td>...</td>\n",
       "      <td>NaN</td>\n",
       "      <td>NaN</td>\n",
       "      <td>NaN</td>\n",
       "      <td>NaN</td>\n",
       "      <td>NaN</td>\n",
       "      <td>NaN</td>\n",
       "      <td>az</td>\n",
       "      <td>NaN</td>\n",
       "      <td>NaN</td>\n",
       "      <td>NaN</td>\n",
       "    </tr>\n",
       "    <tr>\n",
       "      <th>1</th>\n",
       "      <td>7218891961</td>\n",
       "      <td>https://fayar.craigslist.org/ctd/d/bentonville...</td>\n",
       "      <td>fayetteville</td>\n",
       "      <td>https://fayar.craigslist.org</td>\n",
       "      <td>11900</td>\n",
       "      <td>NaN</td>\n",
       "      <td>NaN</td>\n",
       "      <td>NaN</td>\n",
       "      <td>NaN</td>\n",
       "      <td>NaN</td>\n",
       "      <td>...</td>\n",
       "      <td>NaN</td>\n",
       "      <td>NaN</td>\n",
       "      <td>NaN</td>\n",
       "      <td>NaN</td>\n",
       "      <td>NaN</td>\n",
       "      <td>NaN</td>\n",
       "      <td>ar</td>\n",
       "      <td>NaN</td>\n",
       "      <td>NaN</td>\n",
       "      <td>NaN</td>\n",
       "    </tr>\n",
       "    <tr>\n",
       "      <th>2</th>\n",
       "      <td>7221797935</td>\n",
       "      <td>https://keys.craigslist.org/cto/d/summerland-k...</td>\n",
       "      <td>florida keys</td>\n",
       "      <td>https://keys.craigslist.org</td>\n",
       "      <td>21000</td>\n",
       "      <td>NaN</td>\n",
       "      <td>NaN</td>\n",
       "      <td>NaN</td>\n",
       "      <td>NaN</td>\n",
       "      <td>NaN</td>\n",
       "      <td>...</td>\n",
       "      <td>NaN</td>\n",
       "      <td>NaN</td>\n",
       "      <td>NaN</td>\n",
       "      <td>NaN</td>\n",
       "      <td>NaN</td>\n",
       "      <td>NaN</td>\n",
       "      <td>fl</td>\n",
       "      <td>NaN</td>\n",
       "      <td>NaN</td>\n",
       "      <td>NaN</td>\n",
       "    </tr>\n",
       "    <tr>\n",
       "      <th>3</th>\n",
       "      <td>7222270760</td>\n",
       "      <td>https://worcester.craigslist.org/cto/d/west-br...</td>\n",
       "      <td>worcester / central MA</td>\n",
       "      <td>https://worcester.craigslist.org</td>\n",
       "      <td>1500</td>\n",
       "      <td>NaN</td>\n",
       "      <td>NaN</td>\n",
       "      <td>NaN</td>\n",
       "      <td>NaN</td>\n",
       "      <td>NaN</td>\n",
       "      <td>...</td>\n",
       "      <td>NaN</td>\n",
       "      <td>NaN</td>\n",
       "      <td>NaN</td>\n",
       "      <td>NaN</td>\n",
       "      <td>NaN</td>\n",
       "      <td>NaN</td>\n",
       "      <td>ma</td>\n",
       "      <td>NaN</td>\n",
       "      <td>NaN</td>\n",
       "      <td>NaN</td>\n",
       "    </tr>\n",
       "    <tr>\n",
       "      <th>4</th>\n",
       "      <td>7210384030</td>\n",
       "      <td>https://greensboro.craigslist.org/cto/d/trinit...</td>\n",
       "      <td>greensboro</td>\n",
       "      <td>https://greensboro.craigslist.org</td>\n",
       "      <td>4900</td>\n",
       "      <td>NaN</td>\n",
       "      <td>NaN</td>\n",
       "      <td>NaN</td>\n",
       "      <td>NaN</td>\n",
       "      <td>NaN</td>\n",
       "      <td>...</td>\n",
       "      <td>NaN</td>\n",
       "      <td>NaN</td>\n",
       "      <td>NaN</td>\n",
       "      <td>NaN</td>\n",
       "      <td>NaN</td>\n",
       "      <td>NaN</td>\n",
       "      <td>nc</td>\n",
       "      <td>NaN</td>\n",
       "      <td>NaN</td>\n",
       "      <td>NaN</td>\n",
       "    </tr>\n",
       "  </tbody>\n",
       "</table>\n",
       "<p>5 rows × 26 columns</p>\n",
       "</div>"
      ],
      "text/plain": [
       "           id                                                url  \\\n",
       "0  7222695916  https://prescott.craigslist.org/cto/d/prescott...   \n",
       "1  7218891961  https://fayar.craigslist.org/ctd/d/bentonville...   \n",
       "2  7221797935  https://keys.craigslist.org/cto/d/summerland-k...   \n",
       "3  7222270760  https://worcester.craigslist.org/cto/d/west-br...   \n",
       "4  7210384030  https://greensboro.craigslist.org/cto/d/trinit...   \n",
       "\n",
       "                   region                         region_url  price  year  \\\n",
       "0                prescott    https://prescott.craigslist.org   6000   NaN   \n",
       "1            fayetteville       https://fayar.craigslist.org  11900   NaN   \n",
       "2            florida keys        https://keys.craigslist.org  21000   NaN   \n",
       "3  worcester / central MA   https://worcester.craigslist.org   1500   NaN   \n",
       "4              greensboro  https://greensboro.craigslist.org   4900   NaN   \n",
       "\n",
       "  manufacturer model condition cylinders  ... size  type paint_color  \\\n",
       "0          NaN   NaN       NaN       NaN  ...  NaN   NaN         NaN   \n",
       "1          NaN   NaN       NaN       NaN  ...  NaN   NaN         NaN   \n",
       "2          NaN   NaN       NaN       NaN  ...  NaN   NaN         NaN   \n",
       "3          NaN   NaN       NaN       NaN  ...  NaN   NaN         NaN   \n",
       "4          NaN   NaN       NaN       NaN  ...  NaN   NaN         NaN   \n",
       "\n",
       "  image_url description county state lat long posting_date  \n",
       "0       NaN         NaN    NaN    az NaN  NaN          NaN  \n",
       "1       NaN         NaN    NaN    ar NaN  NaN          NaN  \n",
       "2       NaN         NaN    NaN    fl NaN  NaN          NaN  \n",
       "3       NaN         NaN    NaN    ma NaN  NaN          NaN  \n",
       "4       NaN         NaN    NaN    nc NaN  NaN          NaN  \n",
       "\n",
       "[5 rows x 26 columns]"
      ]
     },
     "execution_count": 3,
     "metadata": {},
     "output_type": "execute_result"
    }
   ],
   "source": [
    "df = pd.read_excel(\"C:/Users/Lenovo/Documents/archive/vehicles.xlsx\")\n",
    "df.head() # preview rows"
   ]
  },
  {
   "cell_type": "markdown",
   "id": "e16999e3",
   "metadata": {},
   "source": [
    "-Assess data"
   ]
  },
  {
   "cell_type": "code",
   "execution_count": 4,
   "id": "17d5e900",
   "metadata": {},
   "outputs": [
    {
     "name": "stdout",
     "output_type": "stream",
     "text": [
      "<class 'pandas.core.frame.DataFrame'>\n",
      "RangeIndex: 15049 entries, 0 to 15048\n",
      "Data columns (total 26 columns):\n",
      " #   Column        Non-Null Count  Dtype  \n",
      "---  ------        --------------  -----  \n",
      " 0   id            15049 non-null  int64  \n",
      " 1   url           15049 non-null  object \n",
      " 2   region        15049 non-null  object \n",
      " 3   region_url    15049 non-null  object \n",
      " 4   price         15049 non-null  int64  \n",
      " 5   year          14905 non-null  float64\n",
      " 6   manufacturer  14339 non-null  object \n",
      " 7   model         14845 non-null  object \n",
      " 8   condition     8683 non-null   object \n",
      " 9   cylinders     9894 non-null   object \n",
      " 10  fuel          14903 non-null  object \n",
      " 11  odometer      14964 non-null  float64\n",
      " 12  title_status  14741 non-null  object \n",
      " 13  transmission  14963 non-null  object \n",
      " 14  VIN           9908 non-null   object \n",
      " 15  drive         10652 non-null  object \n",
      " 16  size          4022 non-null   object \n",
      " 17  type          12262 non-null  object \n",
      " 18  paint_color   11518 non-null  object \n",
      " 19  image_url     15022 non-null  object \n",
      " 20  description   15021 non-null  object \n",
      " 21  county        0 non-null      float64\n",
      " 22  state         15048 non-null  object \n",
      " 23  lat           14965 non-null  float64\n",
      " 24  long          14965 non-null  float64\n",
      " 25  posting_date  15021 non-null  object \n",
      "dtypes: float64(5), int64(2), object(19)\n",
      "memory usage: 3.0+ MB\n",
      "None\n"
     ]
    }
   ],
   "source": [
    "print(df.info())  #information about the dataset"
   ]
  },
  {
   "cell_type": "code",
   "execution_count": 5,
   "id": "a0c0dfa3",
   "metadata": {},
   "outputs": [
    {
     "name": "stdout",
     "output_type": "stream",
     "text": [
      "           id                                                url  \\\n",
      "0  7222695916  https://prescott.craigslist.org/cto/d/prescott...   \n",
      "1  7218891961  https://fayar.craigslist.org/ctd/d/bentonville...   \n",
      "2  7221797935  https://keys.craigslist.org/cto/d/summerland-k...   \n",
      "3  7222270760  https://worcester.craigslist.org/cto/d/west-br...   \n",
      "4  7210384030  https://greensboro.craigslist.org/cto/d/trinit...   \n",
      "\n",
      "                   region                         region_url  price  year  \\\n",
      "0                prescott    https://prescott.craigslist.org   6000   NaN   \n",
      "1            fayetteville       https://fayar.craigslist.org  11900   NaN   \n",
      "2            florida keys        https://keys.craigslist.org  21000   NaN   \n",
      "3  worcester / central MA   https://worcester.craigslist.org   1500   NaN   \n",
      "4              greensboro  https://greensboro.craigslist.org   4900   NaN   \n",
      "\n",
      "  manufacturer model condition cylinders  ... size  type paint_color  \\\n",
      "0          NaN   NaN       NaN       NaN  ...  NaN   NaN         NaN   \n",
      "1          NaN   NaN       NaN       NaN  ...  NaN   NaN         NaN   \n",
      "2          NaN   NaN       NaN       NaN  ...  NaN   NaN         NaN   \n",
      "3          NaN   NaN       NaN       NaN  ...  NaN   NaN         NaN   \n",
      "4          NaN   NaN       NaN       NaN  ...  NaN   NaN         NaN   \n",
      "\n",
      "  image_url description county state lat long posting_date  \n",
      "0       NaN         NaN    NaN    az NaN  NaN          NaN  \n",
      "1       NaN         NaN    NaN    ar NaN  NaN          NaN  \n",
      "2       NaN         NaN    NaN    fl NaN  NaN          NaN  \n",
      "3       NaN         NaN    NaN    ma NaN  NaN          NaN  \n",
      "4       NaN         NaN    NaN    nc NaN  NaN          NaN  \n",
      "\n",
      "[5 rows x 26 columns]\n"
     ]
    }
   ],
   "source": [
    "print(df.head())  # Display the first few rows of the dataset"
   ]
  },
  {
   "cell_type": "code",
   "execution_count": 6,
   "id": "9ad7447c",
   "metadata": {},
   "outputs": [
    {
     "name": "stdout",
     "output_type": "stream",
     "text": [
      "id                  0\n",
      "url                 0\n",
      "region              0\n",
      "region_url          0\n",
      "price               0\n",
      "year              144\n",
      "manufacturer      710\n",
      "model             204\n",
      "condition        6366\n",
      "cylinders        5155\n",
      "fuel              146\n",
      "odometer           85\n",
      "title_status      308\n",
      "transmission       86\n",
      "VIN              5141\n",
      "drive            4397\n",
      "size            11027\n",
      "type             2787\n",
      "paint_color      3531\n",
      "image_url          27\n",
      "description        28\n",
      "county          15049\n",
      "state               1\n",
      "lat                84\n",
      "long               84\n",
      "posting_date       28\n",
      "dtype: int64\n"
     ]
    }
   ],
   "source": [
    "print(df.isnull().sum())     # missing values"
   ]
  },
  {
   "cell_type": "code",
   "execution_count": 7,
   "id": "a154264d",
   "metadata": {},
   "outputs": [
    {
     "name": "stdout",
     "output_type": "stream",
     "text": [
      "                 id         price          year      odometer  county  \\\n",
      "count  1.504900e+04  1.504900e+04  14905.000000  1.496400e+04     0.0   \n",
      "mean   7.311527e+09  9.292694e+04   2011.565985  1.011644e+05     NaN   \n",
      "std    6.123926e+06  8.091963e+06     10.273721  3.970026e+05     NaN   \n",
      "min    7.208550e+09  0.000000e+00   1901.000000  0.000000e+00     NaN   \n",
      "25%    7.307812e+09  8.900000e+03   2009.000000  2.872775e+04     NaN   \n",
      "50%    7.313169e+09  1.890000e+04   2014.000000  6.996000e+04     NaN   \n",
      "75%    7.315892e+09  2.998800e+04   2018.000000  1.230000e+05     NaN   \n",
      "max    7.316896e+09  9.876543e+08   2022.000000  1.000000e+07     NaN   \n",
      "\n",
      "                lat          long  \n",
      "count  14965.000000  14965.000000  \n",
      "mean      39.971177   -111.493492  \n",
      "std       11.883187     23.679729  \n",
      "min      -81.838232   -158.599600  \n",
      "25%       33.335400   -114.352806  \n",
      "50%       33.779214   -111.800000  \n",
      "75%       36.464100    -86.962474  \n",
      "max       82.390818    173.885502  \n"
     ]
    }
   ],
   "source": [
    "print(df.describe())     # Summary statistics"
   ]
  },
  {
   "cell_type": "code",
   "execution_count": 8,
   "id": "a90d47a8",
   "metadata": {},
   "outputs": [
    {
     "name": "stdout",
     "output_type": "stream",
     "text": [
      "0\n"
     ]
    }
   ],
   "source": [
    "print(df.duplicated().sum())      #duplicates values"
   ]
  },
  {
   "cell_type": "code",
   "execution_count": 9,
   "id": "4d530b55",
   "metadata": {},
   "outputs": [
    {
     "name": "stdout",
     "output_type": "stream",
     "text": [
      "[nan 'gmc' 'chevrolet' 'toyota' 'ford' 'jeep' 'nissan' 'ram' 'mazda'\n",
      " 'cadillac' 'honda' 'dodge' 'lexus' 'jaguar' 'buick' 'chrysler' 'volvo'\n",
      " 'audi' 'infiniti' 'lincoln' 'alfa-romeo' 'subaru' 'acura' 'hyundai'\n",
      " 'mercedes-benz' 'bmw' 'mitsubishi' 'volkswagen' 'porsche' 'kia' 'rover'\n",
      " 'ferrari' 'mini' 'pontiac' 'fiat' 'tesla' 'saturn' 'mercury'\n",
      " 'harley-davidson' 'datsun']\n"
     ]
    }
   ],
   "source": [
    "# Check unique values in categorical columns\n",
    "print(df['manufacturer'].unique())"
   ]
  },
  {
   "cell_type": "code",
   "execution_count": 10,
   "id": "c7511f34",
   "metadata": {},
   "outputs": [
    {
     "name": "stdout",
     "output_type": "stream",
     "text": [
      "[nan 'good' 'excellent' 'fair' 'like new' 'new' 'salvage']\n"
     ]
    }
   ],
   "source": [
    "print(df['condition'].unique())"
   ]
  },
  {
   "cell_type": "code",
   "execution_count": 11,
   "id": "9c8f6a78",
   "metadata": {},
   "outputs": [
    {
     "name": "stdout",
     "output_type": "stream",
     "text": [
      "[nan 'gas' 'other' 'diesel' 'hybrid' 'electric']\n"
     ]
    }
   ],
   "source": [
    "print(df['fuel'].unique())"
   ]
  },
  {
   "cell_type": "markdown",
   "id": "57beb867",
   "metadata": {},
   "source": [
    "-Cleaning data "
   ]
  },
  {
   "cell_type": "code",
   "execution_count": 12,
   "id": "acf7b18f",
   "metadata": {},
   "outputs": [],
   "source": [
    "df.drop_duplicates(inplace=True)    # Remove duplicates"
   ]
  },
  {
   "cell_type": "markdown",
   "id": "45a3d115",
   "metadata": {},
   "source": [
    "-Handle missing values \n",
    "-Filling missing values with a placeholder or removing them"
   ]
  },
  {
   "cell_type": "code",
   "execution_count": 13,
   "id": "9a12f591",
   "metadata": {},
   "outputs": [],
   "source": [
    "df['condition'].fillna('unknown', inplace=True)"
   ]
  },
  {
   "cell_type": "code",
   "execution_count": 14,
   "id": "90a6d938",
   "metadata": {},
   "outputs": [],
   "source": [
    "df.dropna(subset=['price', 'year', 'manufacturer'], inplace=True)"
   ]
  },
  {
   "cell_type": "code",
   "execution_count": 15,
   "id": "6a3b4a4d",
   "metadata": {},
   "outputs": [],
   "source": [
    "# Correct data types\n",
    "df['price'] = df['price'].astype(float)"
   ]
  },
  {
   "cell_type": "code",
   "execution_count": 16,
   "id": "f8939ed1",
   "metadata": {},
   "outputs": [],
   "source": [
    "df['year'] = df['year'].astype(int)"
   ]
  },
  {
   "cell_type": "code",
   "execution_count": 17,
   "id": "62e6de67",
   "metadata": {},
   "outputs": [],
   "source": [
    "df = df[df['price'] < df['price'].quantile(0.99)]    #Remove outliers"
   ]
  },
  {
   "cell_type": "markdown",
   "id": "13c008cc",
   "metadata": {},
   "source": [
    "EDA"
   ]
  },
  {
   "cell_type": "markdown",
   "id": "2fd7c6bd",
   "metadata": {},
   "source": [
    "1-What are the most common car manufacturers in the dataset?"
   ]
  },
  {
   "cell_type": "code",
   "execution_count": 18,
   "id": "cf4b75cf",
   "metadata": {},
   "outputs": [
    {
     "data": {
      "text/plain": [
       "manufacturer\n",
       "ford         2458\n",
       "chevrolet    2135\n",
       "toyota       1224\n",
       "jeep          721\n",
       "nissan        684\n",
       "honda         625\n",
       "ram           603\n",
       "gmc           557\n",
       "dodge         519\n",
       "bmw           416\n",
       "Name: count, dtype: int64"
      ]
     },
     "execution_count": 18,
     "metadata": {},
     "output_type": "execute_result"
    }
   ],
   "source": [
    "df['manufacturer'].value_counts().head(10)"
   ]
  },
  {
   "cell_type": "markdown",
   "id": "1be640c6",
   "metadata": {},
   "source": [
    "2-What is the average price of vehicles by manufacturer?"
   ]
  },
  {
   "cell_type": "code",
   "execution_count": 19,
   "id": "f431d156",
   "metadata": {},
   "outputs": [
    {
     "data": {
      "text/plain": [
       "manufacturer\n",
       "tesla              38387.315789\n",
       "jaguar             31123.970588\n",
       "alfa-romeo         29721.979167\n",
       "porsche            28120.571429\n",
       "ram                27758.656716\n",
       "rover              27726.170732\n",
       "audi               27016.013953\n",
       "gmc                25394.570916\n",
       "acura              24934.571429\n",
       "infiniti           23028.763314\n",
       "bmw                22691.444712\n",
       "lincoln            22413.060241\n",
       "jeep               22011.266297\n",
       "cadillac           21606.526104\n",
       "volvo              21497.084112\n",
       "chevrolet          21293.125059\n",
       "lexus              20937.729730\n",
       "ford               20866.809194\n",
       "mercedes-benz      20727.803030\n",
       "datsun             19625.000000\n",
       "toyota             18593.960784\n",
       "subaru             18284.652174\n",
       "mini               18254.702381\n",
       "mitsubishi         17775.281250\n",
       "harley-davidson    17380.833333\n",
       "dodge              16478.167630\n",
       "mazda              16259.722892\n",
       "nissan             15694.440058\n",
       "volkswagen         14978.913043\n",
       "kia                14407.858974\n",
       "buick              13991.659794\n",
       "chrysler           13904.086957\n",
       "hyundai            13570.627451\n",
       "honda              13364.328000\n",
       "pontiac             8532.568966\n",
       "fiat                8298.491228\n",
       "mercury             5836.833333\n",
       "saturn              3947.166667\n",
       "Name: price, dtype: float64"
      ]
     },
     "execution_count": 19,
     "metadata": {},
     "output_type": "execute_result"
    }
   ],
   "source": [
    "df.groupby('manufacturer')['price'].mean().sort_values(ascending=False)"
   ]
  },
  {
   "cell_type": "markdown",
   "id": "1f5f15bb",
   "metadata": {},
   "source": [
    "3-What is the distribution of vehicle conditions?"
   ]
  },
  {
   "cell_type": "code",
   "execution_count": 20,
   "id": "c01f693a",
   "metadata": {},
   "outputs": [
    {
     "data": {
      "text/plain": [
       "condition\n",
       "unknown      5959\n",
       "good         4487\n",
       "excellent    2645\n",
       "like new      839\n",
       "fair          209\n",
       "new            38\n",
       "salvage        16\n",
       "Name: count, dtype: int64"
      ]
     },
     "execution_count": 20,
     "metadata": {},
     "output_type": "execute_result"
    }
   ],
   "source": [
    "df['condition'].value_counts()"
   ]
  },
  {
   "cell_type": "markdown",
   "id": "4f08b903",
   "metadata": {},
   "source": [
    "4-How does price vary by vehicle type?"
   ]
  },
  {
   "cell_type": "code",
   "execution_count": 21,
   "id": "3705e3fa",
   "metadata": {},
   "outputs": [
    {
     "data": {
      "text/plain": [
       "type\n",
       "pickup         27836.001085\n",
       "other          27633.959960\n",
       "truck          24113.753223\n",
       "coupe          22699.996169\n",
       "SUV            20209.614217\n",
       "van            19162.680412\n",
       "bus            18507.142857\n",
       "offroad        17778.204082\n",
       "hatchback      17606.037182\n",
       "wagon          16302.071625\n",
       "sedan          16217.400000\n",
       "convertible    15988.032710\n",
       "mini-van       14665.632258\n",
       "Name: price, dtype: float64"
      ]
     },
     "execution_count": 21,
     "metadata": {},
     "output_type": "execute_result"
    }
   ],
   "source": [
    "df.groupby('type')['price'].mean().sort_values(ascending=False)"
   ]
  },
  {
   "cell_type": "markdown",
   "id": "838d8b44",
   "metadata": {},
   "source": [
    "5-What is the relationship between the year of the vehicle and its price?"
   ]
  },
  {
   "cell_type": "code",
   "execution_count": 22,
   "id": "2f5fa20a",
   "metadata": {},
   "outputs": [
    {
     "data": {
      "text/plain": [
       "<Axes: xlabel='year', ylabel='price'>"
      ]
     },
     "execution_count": 22,
     "metadata": {},
     "output_type": "execute_result"
    },
    {
     "data": {
      "image/png": "[encoded data removed]",
      "text/plain": [
       "<Figure size 640x480 with 1 Axes>"
      ]
     },
     "metadata": {},
     "output_type": "display_data"
    }
   ],
   "source": [
    "df.plot.scatter(x='year', y='price')"
   ]
  },
  {
   "cell_type": "markdown",
   "id": "9f530db6",
   "metadata": {},
   "source": [
    "6-Which cities have the highest average vehicle prices?"
   ]
  },
  {
   "cell_type": "code",
   "execution_count": 23,
   "id": "6f4ad98e",
   "metadata": {},
   "outputs": [
    {
     "data": {
      "text/plain": [
       "state\n",
       "ak    23129.841024\n",
       "al    19779.566501\n",
       "az    18552.129319\n",
       "Name: price, dtype: float64"
      ]
     },
     "execution_count": 23,
     "metadata": {},
     "output_type": "execute_result"
    }
   ],
   "source": [
    "df.groupby('state')['price'].mean().sort_values(ascending=False).head(10)"
   ]
  },
  {
   "cell_type": "markdown",
   "id": "f94dcf39",
   "metadata": {},
   "source": [
    "7-What are the most common vehicle types listed?"
   ]
  },
  {
   "cell_type": "code",
   "execution_count": 24,
   "id": "ab6645a8",
   "metadata": {},
   "outputs": [
    {
     "data": {
      "text/plain": [
       "type\n",
       "sedan          2905\n",
       "SUV            2701\n",
       "pickup         1843\n",
       "truck          1086\n",
       "other           999\n",
       "coupe           522\n",
       "hatchback       511\n",
       "wagon           363\n",
       "van             291\n",
       "convertible     214\n",
       "Name: count, dtype: int64"
      ]
     },
     "execution_count": 24,
     "metadata": {},
     "output_type": "execute_result"
    }
   ],
   "source": [
    "df['type'].value_counts().head(10)"
   ]
  },
  {
   "cell_type": "markdown",
   "id": "17000225",
   "metadata": {},
   "source": [
    "8-Which car models are listed most frequently?"
   ]
  },
  {
   "cell_type": "code",
   "execution_count": 25,
   "id": "57b00624",
   "metadata": {},
   "outputs": [
    {
     "data": {
      "text/plain": [
       "model\n",
       "f-150             308\n",
       "silverado 1500    213\n",
       "silverado         142\n",
       "1500              138\n",
       "wrangler          113\n",
       "camry             103\n",
       "malibu             94\n",
       "charger            94\n",
       "mustang            88\n",
       "grand cherokee     84\n",
       "Name: count, dtype: int64"
      ]
     },
     "execution_count": 25,
     "metadata": {},
     "output_type": "execute_result"
    }
   ],
   "source": [
    "df['model'].value_counts().head(10)"
   ]
  },
  {
   "cell_type": "markdown",
   "id": "540002b6",
   "metadata": {},
   "source": [
    "9-What is the distribution of mileage across different vehicle types?"
   ]
  },
  {
   "cell_type": "code",
   "execution_count": 27,
   "id": "e439df09",
   "metadata": {},
   "outputs": [
    {
     "data": {
      "text/plain": [
       "type\n",
       "offroad        317839.979592\n",
       "truck          273572.045412\n",
       "bus            128099.714286\n",
       "mini-van       123607.261438\n",
       "van            121796.869416\n",
       "SUV             96317.826880\n",
       "pickup          88105.884825\n",
       "wagon           79217.773481\n",
       "sedan           77768.136944\n",
       "convertible     77250.939252\n",
       "hatchback       58492.976471\n",
       "coupe           58228.925287\n",
       "other           42896.936810\n",
       "Name: odometer, dtype: float64"
      ]
     },
     "execution_count": 27,
     "metadata": {},
     "output_type": "execute_result"
    }
   ],
   "source": [
    "df.groupby('type')['odometer'].mean().sort_values(ascending=False)"
   ]
  },
  {
   "cell_type": "markdown",
   "id": "be90a082",
   "metadata": {},
   "source": [
    "10-How does fuel type affect the price of vehicles?"
   ]
  },
  {
   "cell_type": "code",
   "execution_count": 28,
   "id": "6f37e2bc",
   "metadata": {},
   "outputs": [
    {
     "data": {
      "text/plain": [
       "fuel\n",
       "diesel      27150.118984\n",
       "other       26535.522137\n",
       "electric    25274.450549\n",
       "gas         18824.531871\n",
       "hybrid      18236.556180\n",
       "Name: price, dtype: float64"
      ]
     },
     "execution_count": 28,
     "metadata": {},
     "output_type": "execute_result"
    }
   ],
   "source": [
    "df.groupby('fuel')['price'].mean().sort_values(ascending=False)"
   ]
  },
  {
   "cell_type": "markdown",
   "id": "05611ccb",
   "metadata": {},
   "source": [
    "11-Are certain vehicle conditions associated with higher prices?"
   ]
  },
  {
   "cell_type": "code",
   "execution_count": 29,
   "id": "3a046213",
   "metadata": {},
   "outputs": [
    {
     "data": {
      "text/plain": [
       "condition\n",
       "new          31754.289474\n",
       "good         22644.908402\n",
       "like new     20658.287247\n",
       "unknown      19779.446887\n",
       "excellent    17171.328922\n",
       "fair          4254.947368\n",
       "salvage       3411.875000\n",
       "Name: price, dtype: float64"
      ]
     },
     "execution_count": 29,
     "metadata": {},
     "output_type": "execute_result"
    }
   ],
   "source": [
    "df.groupby('condition')['price'].mean().sort_values(ascending=False)"
   ]
  },
  {
   "cell_type": "markdown",
   "id": "3225d50d",
   "metadata": {},
   "source": [
    "12-What is the trend in vehicle prices over different years?"
   ]
  },
  {
   "cell_type": "code",
   "execution_count": 30,
   "id": "3d44758e",
   "metadata": {},
   "outputs": [
    {
     "data": {
      "text/plain": [
       "<Axes: xlabel='year'>"
      ]
     },
     "execution_count": 30,
     "metadata": {},
     "output_type": "execute_result"
    },
    {
     "data": {
      "image/png": "[encoded data removed]",
      "text/plain": [
       "<Figure size 640x480 with 1 Axes>"
      ]
     },
     "metadata": {},
     "output_type": "display_data"
    }
   ],
   "source": [
    "df.groupby('year')['price'].mean().plot()"
   ]
  },
  {
   "cell_type": "markdown",
   "id": "1c7325e6",
   "metadata": {},
   "source": [
    "*Thanks*"
   ]
  },
  {
   "cell_type": "code",
   "execution_count": null,
   "id": "5422d0b0",
   "metadata": {},
   "outputs": [],
   "source": []
  }
 ],
 "metadata": {
  "kernelspec": {
   "display_name": "Python 3 (ipykernel)",
   "language": "python",
   "name": "python3"
  },
  "language_info": {
   "codemirror_mode": {
    "name": "ipython",
    "version": 3
   },
   "file_extension": ".py",
   "mimetype": "text/x-python",
   "name": "python",
   "nbconvert_exporter": "python",
   "pygments_lexer": "ipython3",
   "version": "3.11.7"
  }
 },
 "nbformat": 4,
 "nbformat_minor": 5
}
